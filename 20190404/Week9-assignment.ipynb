{
 "cells": [
  {
   "cell_type": "markdown",
   "metadata": {},
   "source": [
    "Before you turn this problem in, make sure everything runs as expected. First, **restart the kernel** (in the menubar, select Kernel$\\rightarrow$Restart) and then **run all cells** (in the menubar, select Cell$\\rightarrow$Run All).\n",
    "\n",
    "Make sure you fill in any place that says `YOUR CODE HERE` or \"YOUR ANSWER HERE\"."
   ]
  },
  {
   "cell_type": "markdown",
   "metadata": {
    "deletable": false,
    "editable": false,
    "nbgrader": {
     "checksum": "c5a3db76951c94fbb7748ec54fb5345f",
     "grade": false,
     "grade_id": "cell-aefa636654fa4d0e",
     "locked": true,
     "schema_version": 1,
     "solution": false
    }
   },
   "source": [
    "# Week 9 - Assignments\n",
    "## Dimensionality reduction and feature selection\n",
    "\n",
    "There are two graded assignements based on the examples shown in the classroom. Each completed assignment gives one point out of two. There are also two ungraded optional assignments.\n",
    "\n"
   ]
  },
  {
   "cell_type": "code",
   "execution_count": null,
   "metadata": {
    "collapsed": true,
    "deletable": false,
    "editable": false,
    "nbgrader": {
     "checksum": "3daf3b629e1221e2a72009093476f762",
     "grade": false,
     "grade_id": "cell-118273584d405e4f",
     "locked": true,
     "schema_version": 1,
     "solution": false
    }
   },
   "outputs": [],
   "source": [
    "import numpy as np\n",
    "import matplotlib.pyplot as plt\n",
    "%matplotlib inline"
   ]
  },
  {
   "cell_type": "markdown",
   "metadata": {
    "deletable": false,
    "editable": false,
    "nbgrader": {
     "checksum": "300ab9c42f5b711ce6e06f7efb6b43f6",
     "grade": false,
     "grade_id": "cell-120c4775527ddabe",
     "locked": true,
     "schema_version": 1,
     "solution": false
    }
   },
   "source": [
    "## 1. Task 1 (1 point)\n",
    "\n",
    "[Olivetti faces dataset](http://scikit-learn.org/stable/modules/generated/sklearn.datasets.fetch_olivetti_faces.html#sklearn.datasets.fetch_olivetti_faces) consists of 10x portaits of 40 individuals. Each portrait is a grayscale image with 64x64 pixels, thus the dimensionality of the problem is 4096 if we consider that each pixel is a feature. \n",
    "\n",
    "Apply feature selection to the dataset, identifying top 25% most important features based on the chi-squared criteria (you can use SelectPercentile).\n",
    "\n",
    "What the test expects:\n",
    " * Use variables __X__ and __y__ for data and the corresponding labels.\n",
    " * The new dataset with 25% of features should be named __X_new__  "
   ]
  },
  {
   "cell_type": "code",
   "execution_count": null,
   "metadata": {
    "collapsed": true,
    "deletable": false,
    "nbgrader": {
     "checksum": "ff6f087997404f20cbea536aae9b790c",
     "grade": false,
     "grade_id": "cell-38048a5ad8a510c4",
     "locked": false,
     "schema_version": 1,
     "solution": true
    }
   },
   "outputs": [],
   "source": [
    "# YOUR CODE HERE\n",
    "pass"
   ]
  },
  {
   "cell_type": "code",
   "execution_count": null,
   "metadata": {
    "deletable": false,
    "editable": false,
    "nbgrader": {
     "checksum": "41ae5043b4b13340812225d932707e39",
     "grade": true,
     "grade_id": "cell-2b447393aad4f719",
     "locked": true,
     "points": 1,
     "schema_version": 1,
     "solution": false
    }
   },
   "outputs": [],
   "source": [
    "assert X.shape == (400, 4096)\n",
    "assert y.shape == (400,)\n",
    "assert X_new.shape == (400, 1024)\n",
    "\n",
    "assert min(chi2(X_new, y)[0]) > min(chi2(X, y)[0])"
   ]
  },
  {
   "cell_type": "code",
   "execution_count": null,
   "metadata": {},
   "outputs": [],
   "source": [
    "# You can visualize selected features on a 64x64 pixel heatmap for visual aid.\n",
    "####################################### \n",
    "# chi2 score of each feature (pixel)\n",
    "importances = np.array(chi2(X, y)[0])\n",
    "plt.matshow(importances.reshape(64,64), cmap=plt.cm.hot)\n",
    "\n",
    "# only top 25% of the most important features\n",
    "min_chi2 = min(chi2(X_new, y)[0])\n",
    "importances = np.where(importances < min_chi2, np.inf, importances)\n",
    "plt.matshow(importances.reshape(64,64), cmap=plt.cm.hot)"
   ]
  },
  {
   "cell_type": "markdown",
   "metadata": {
    "deletable": false,
    "editable": false,
    "nbgrader": {
     "checksum": "ff4e471fef90624fe6953b46a7f217a6",
     "grade": false,
     "grade_id": "cell-5ea1179d52fa3666",
     "locked": true,
     "schema_version": 1,
     "solution": false
    }
   },
   "source": [
    "### Optional exercise 1 (not graded) - NMF applied to faces\n",
    "\n",
    "Have a look at the seminal paper that introduced NMF: http://www.columbia.edu/~jwp2128/Teaching/E4903/papers/nmf_nature.pdf\n",
    "\n",
    "I hope you will become inspired to reproduce the original experiment by applying NMF to Olivetti faces dataset. Decompose faces into a desired number of components (try 8, then 16, for instance). Show the components as images. Due to non-negative nature of the procedure, the individual components can be interpreted as facial features.\n"
   ]
  },
  {
   "cell_type": "code",
   "execution_count": null,
   "metadata": {
    "deletable": false,
    "nbgrader": {
     "checksum": "9eba68f13fb2b7bf1d4bdc3acee970b0",
     "grade": false,
     "grade_id": "cell-8f082768410bca19",
     "locked": false,
     "schema_version": 1,
     "solution": true
    }
   },
   "outputs": [],
   "source": [
    "# YOUR CODE HERE\n",
    "pass"
   ]
  },
  {
   "cell_type": "markdown",
   "metadata": {
    "deletable": false,
    "editable": false,
    "nbgrader": {
     "checksum": "166050c35fb8d192248bfdf38ab0d1ff",
     "grade": false,
     "grade_id": "cell-1433786ff66c0cd3",
     "locked": true,
     "schema_version": 1,
     "solution": false
    }
   },
   "source": [
    "## Task 2 (1 point)\n",
    "\n",
    "Apply tSNE to the digits dataset (transform to 2D). Digits dataset has about 180 samples per class, so we should set perplexity=180 in tSNE accordingly. Afterwards, perform K-means clustering into 10 clusters in 2D feature space obtained after tSNE transformation. Calculate sklearn.metrics.adjusted_rand_score between the labels obtained in clustering and the original digit labels. http://scikit-learn.org/stable/modules/generated/sklearn.datasets.load_digits.html\n",
    "\n",
    "What the test expects:\n",
    " * Use variables __X__ and __y__ for data and the corresponding labels.\n",
    " * tSNE-transformed 2D dataset should be named __X_new__\n",
    " * The variable holding Adjusted Rand Score should be named __score__\n",
    " * The variable holding cluster labels assigned by KMeans should be named __y_new__"
   ]
  },
  {
   "cell_type": "code",
   "execution_count": null,
   "metadata": {
    "deletable": false,
    "nbgrader": {
     "checksum": "810246a23e7413d9effad015d4de7bc4",
     "grade": false,
     "grade_id": "cell-ecffeb3f1e71f096",
     "locked": false,
     "schema_version": 1,
     "solution": true
    }
   },
   "outputs": [],
   "source": [
    "# YOUR CODE HERE\n",
    "pass"
   ]
  },
  {
   "cell_type": "code",
   "execution_count": null,
   "metadata": {
    "deletable": false,
    "editable": false,
    "nbgrader": {
     "checksum": "b581d93fa91f75808869e6945340a04a",
     "grade": true,
     "grade_id": "cell-f5290f330ad9a78d",
     "locked": true,
     "points": 0,
     "schema_version": 1,
     "solution": false
    }
   },
   "outputs": [],
   "source": [
    "assert X.shape == (1797, 64)\n",
    "assert X_new.shape == (1797, 2)\n",
    "assert y.shape == (1797, )\n",
    "assert y_new.shape == (1797, )\n",
    "print(score)\n",
    "assert score > 0.7"
   ]
  },
  {
   "cell_type": "code",
   "execution_count": null,
   "metadata": {},
   "outputs": [],
   "source": [
    "# Visualization:\n",
    "import seaborn as sns\n",
    "import pandas as pd\n",
    "\n",
    "df = pd.DataFrame({'tSNE 1': X_new[:, 0], 'tSNE 2': X_new[:, 1], 'actual_label': y, 'cluster': y_new})\n",
    "sns.lmplot(data=df, x='tSNE 1', y='tSNE 2', hue='actual_label', fit_reg=False)\n",
    "sns.lmplot(data=df, x='tSNE 1', y='tSNE 2', hue='cluster', fit_reg=False)"
   ]
  },
  {
   "cell_type": "markdown",
   "metadata": {
    "deletable": false,
    "editable": false,
    "nbgrader": {
     "checksum": "1fa3a3208a41ecc26d8d5f79e0f4af6a",
     "grade": false,
     "grade_id": "cell-c69f2ee98e06b805",
     "locked": true,
     "schema_version": 1,
     "solution": false
    }
   },
   "source": [
    "## 3. Optional exercise 2 (not graded) - Comparing clustering before and after NMF\n",
    "\n",
    "Use BRCA gene expression dataset (measured with antibodies on a protein level) that we used in the class.\n",
    "\n",
    "1. Apply Kmeans clustering (3 clusters) to the original expression data first;\n",
    "1. Perform NMF decomposition with 5 components, we will need the low-dimensional transformed data (H matrix)\n",
    "1. Apply Kmeans (3 clusters) to the result of NMF decomposition.\n",
    "1. Use Adjusted Rand Index (ARI) to compare clustering labels obtained on steps 1 and 3\n",
    "\n",
    "Hint: In my solution I obtained an ARI of about 0.67"
   ]
  },
  {
   "cell_type": "code",
   "execution_count": null,
   "metadata": {
    "deletable": false,
    "nbgrader": {
     "checksum": "f3fad77ee57a8ffd0d843044474eb912",
     "grade": false,
     "grade_id": "cell-6dcbc41d73f5f97c",
     "locked": false,
     "schema_version": 1,
     "solution": true
    }
   },
   "outputs": [],
   "source": [
    "# YOUR CODE HERE\n",
    "pass"
   ]
  },
  {
   "cell_type": "code",
   "execution_count": null,
   "metadata": {
    "collapsed": true
   },
   "outputs": [],
   "source": []
  }
 ],
 "metadata": {
  "kernelspec": {
   "display_name": "Python 3",
   "language": "python",
   "name": "python3"
  },
  "language_info": {
   "codemirror_mode": {
    "name": "ipython",
    "version": 3
   },
   "file_extension": ".py",
   "mimetype": "text/x-python",
   "name": "python",
   "nbconvert_exporter": "python",
   "pygments_lexer": "ipython3",
   "version": "3.6.3"
  }
 },
 "nbformat": 4,
 "nbformat_minor": 2
}
